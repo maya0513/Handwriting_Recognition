{
 "cells": [
  {
   "cell_type": "code",
   "execution_count": 1,
   "metadata": {},
   "outputs": [],
   "source": [
    "# pip install ipywidgets timm"
   ]
  },
  {
   "cell_type": "code",
   "execution_count": 2,
   "metadata": {},
   "outputs": [],
   "source": [
    "# 必要なライブラリをインポートします\n",
    "import torch  # PyTorchの主要ライブラリ\n",
    "import torch.nn as nn  # ニューラルネットワークモジュール\n",
    "import torch.optim as optim  # 最適化アルゴリズム\n",
    "from torch.utils.data import DataLoader  # データローダー\n",
    "from torchvision import datasets, transforms  # 画像データセットと変換\n",
    "from timm.models.swin_transformer import SwinTransformer  # Swin Transformerモデル\n",
    "import matplotlib.pyplot as plt  # グラフ描画ライブラリ\n",
    "from ipywidgets import IntProgress  # プログレスバーウィジェット\n",
    "from IPython.display import display  # IPython表示機能"
   ]
  },
  {
   "cell_type": "code",
   "execution_count": 3,
   "metadata": {},
   "outputs": [
    {
     "name": "stdout",
     "output_type": "stream",
     "text": [
      "Using device: cuda\n"
     ]
    }
   ],
   "source": [
    "# CUDA が利用可能か確認\n",
    "device = torch.device(\"cuda\" if torch.cuda.is_available() else \"cpu\")\n",
    "print(f\"Using device: {device}\")"
   ]
  },
  {
   "cell_type": "code",
   "execution_count": 4,
   "metadata": {},
   "outputs": [],
   "source": [
    "# ハイパーパラメータを設定します\n",
    "batch_size = 64  # バッチサイズ：一度に処理するデータ数\n",
    "learning_rate = 0.001  # 学習率：最適化の歩幅\n",
    "num_epochs = 15  # エポック数：全データセットを何回学習するか\n",
    "\n",
    "step_size = 5  # 学習率を減少させるステップの間隔\n",
    "gamma = 0.1  # 学習率を減少させる割合"
   ]
  },
  {
   "cell_type": "code",
   "execution_count": 5,
   "metadata": {},
   "outputs": [],
   "source": [
    "# データの前処理を定義します\n",
    "transform = transforms.Compose(\n",
    "    [\n",
    "        transforms.Resize((128, 128)),  # 画像を32x32にリサイズ\n",
    "        transforms.ToTensor(),  # 画像をテンソルに変換\n",
    "        transforms.Normalize(\n",
    "            (0.1307,), (0.3081,)\n",
    "        ),  # MNISTデータセットの平均と標準偏差で正規化\n",
    "    ]\n",
    ")"
   ]
  },
  {
   "cell_type": "code",
   "execution_count": 6,
   "metadata": {},
   "outputs": [],
   "source": [
    "# MNISTデータセットの読み込み\n",
    "train_dataset = datasets.MNIST(\n",
    "    root=\"./data\", train=True, download=True, transform=transform\n",
    ")\n",
    "test_dataset = datasets.MNIST(\n",
    "    root=\"./data\", train=False, download=True, transform=transform\n",
    ")\n",
    "\n",
    "train_loader = DataLoader(train_dataset, batch_size=64, shuffle=True)\n",
    "test_loader = DataLoader(test_dataset, batch_size=64, shuffle=False)"
   ]
  },
  {
   "cell_type": "code",
   "execution_count": 7,
   "metadata": {},
   "outputs": [],
   "source": [
    "# Swin Transformerモデルを定義します\n",
    "class SwinTransformerForMNIST(nn.Module):\n",
    "    def __init__(self):\n",
    "        super(SwinTransformerForMNIST, self).__init__()\n",
    "        self.swin = SwinTransformer(\n",
    "            img_size=128,  # 入力画像サイズ\n",
    "            patch_size=8,  # パッチサイズ\n",
    "            in_chans=1,  # 入力チャンネル数（グレースケール）\n",
    "            num_classes=10,  # 出力クラス数（0-9の数字）\n",
    "            embed_dim=64,  # 埋め込みベクトルの次元\n",
    "            depths=[2, 2, 2],  # 各段階のTransformerブロック数\n",
    "            num_heads=[2, 4, 8],  # 各段階のアテンションヘッド数\n",
    "            window_size=8,  # ウィンドウサイズ\n",
    "            mlp_ratio=4.0,  # MLPの拡大率\n",
    "            qkv_bias=True,  # クエリ、キー、バリューにバイアスを使用\n",
    "            drop_rate=0.1,  # ドロップアウト率\n",
    "            attn_drop_rate=0.1,  # アテンションのドロップアウト率\n",
    "            drop_path_rate=0.1,  # パスのドロップアウト率\n",
    "        )\n",
    "\n",
    "    def forward(self, x):\n",
    "        return self.swin(x)  # モデルの順伝播"
   ]
  },
  {
   "cell_type": "code",
   "execution_count": 8,
   "metadata": {},
   "outputs": [],
   "source": [
    "# モデル、損失関数、オプティマイザを初期化します\n",
    "model = SwinTransformerForMNIST().to(device)\n",
    "criterion = nn.CrossEntropyLoss()  # 多クラス分類のための交差エントロピー損失\n",
    "optimizer = optim.Adam(model.parameters(), lr=learning_rate, weight_decay=1e-4)  # Adamオプティマイザ\n",
    "# L2正則化\n",
    "\n",
    "# 学習率スケジューラを定義\n",
    "scheduler = optim.lr_scheduler.StepLR(optimizer, step_size=step_size, gamma=gamma)"
   ]
  },
  {
   "cell_type": "code",
   "execution_count": 9,
   "metadata": {},
   "outputs": [],
   "source": [
    "# 訓練関数を定義します\n",
    "def train(epoch):\n",
    "    model.train()  # モデルを訓練モードに設定\n",
    "    train_loss = 0\n",
    "    correct = 0\n",
    "    total = 0\n",
    "    progress = IntProgress(min=0, max=len(train_loader))\n",
    "    display(progress)\n",
    "\n",
    "    for batch_idx, (data, target) in enumerate(train_loader):\n",
    "        data, target = data.to(device), target.to(device)  # データをGPUに移動\n",
    "        optimizer.zero_grad()  # 勾配をゼロに初期化\n",
    "        output = model(data)  # モデルの出力を計算\n",
    "        loss = criterion(output, target)  # 損失を計算\n",
    "        loss.backward()  # 逆伝播で勾配を計算\n",
    "        optimizer.step()  # パラメータを更新\n",
    "\n",
    "        train_loss += loss.item()\n",
    "        _, predicted = output.max(1)\n",
    "        total += target.size(0)\n",
    "        correct += predicted.eq(target).sum().item()\n",
    "        progress.value += 1\n",
    "\n",
    "    scheduler.step()  # エポックごとに学習率を減少させる\n",
    "\n",
    "    return train_loss / len(train_loader), 100.0 * correct / total"
   ]
  },
  {
   "cell_type": "code",
   "execution_count": 10,
   "metadata": {},
   "outputs": [],
   "source": [
    "# テスト関数を定義します\n",
    "def test():\n",
    "    model.eval()  # モデルを評価モードに設定\n",
    "    test_loss = 0\n",
    "    correct = 0\n",
    "    total = 0\n",
    "    with torch.no_grad():  # 勾配計算を無効化\n",
    "        for data, target in test_loader:\n",
    "            data, target = data.to(device), target.to(device)\n",
    "            output = model(data)\n",
    "            loss = criterion(output, target)\n",
    "            test_loss += loss.item()\n",
    "            _, predicted = output.max(1)\n",
    "            total += target.size(0)\n",
    "            correct += predicted.eq(target).sum().item()\n",
    "\n",
    "    return test_loss / len(test_loader), 100.0 * correct / total"
   ]
  },
  {
   "cell_type": "code",
   "execution_count": 11,
   "metadata": {
    "scrolled": true
   },
   "outputs": [
    {
     "name": "stdout",
     "output_type": "stream",
     "text": [
      "エポック 1/15\n"
     ]
    },
    {
     "data": {
      "application/vnd.jupyter.widget-view+json": {
       "model_id": "6c81a700a6254c56a5d9b9b6b18431a9",
       "version_major": 2,
       "version_minor": 0
      },
      "text/plain": [
       "IntProgress(value=0, max=938)"
      ]
     },
     "metadata": {},
     "output_type": "display_data"
    },
    {
     "name": "stdout",
     "output_type": "stream",
     "text": [
      "訓練損失: 0.5734, 訓練精度: 81.30%\n",
      "テスト損失: 0.2017, テスト精度: 93.88%\n",
      "エポック 2/15\n"
     ]
    },
    {
     "data": {
      "application/vnd.jupyter.widget-view+json": {
       "model_id": "a576be37aa24473ba376a6a11b70edd1",
       "version_major": 2,
       "version_minor": 0
      },
      "text/plain": [
       "IntProgress(value=0, max=938)"
      ]
     },
     "metadata": {},
     "output_type": "display_data"
    },
    {
     "name": "stdout",
     "output_type": "stream",
     "text": [
      "訓練損失: 0.2022, 訓練精度: 93.79%\n",
      "テスト損失: 0.1698, テスト精度: 94.41%\n",
      "エポック 3/15\n"
     ]
    },
    {
     "data": {
      "application/vnd.jupyter.widget-view+json": {
       "model_id": "840be65971444f989c338a9b9b622fe8",
       "version_major": 2,
       "version_minor": 0
      },
      "text/plain": [
       "IntProgress(value=0, max=938)"
      ]
     },
     "metadata": {},
     "output_type": "display_data"
    },
    {
     "name": "stdout",
     "output_type": "stream",
     "text": [
      "訓練損失: 0.1541, 訓練精度: 95.29%\n",
      "テスト損失: 0.1195, テスト精度: 96.17%\n",
      "エポック 4/15\n"
     ]
    },
    {
     "data": {
      "application/vnd.jupyter.widget-view+json": {
       "model_id": "a2eeede93cb84227a8c4116bf0946d14",
       "version_major": 2,
       "version_minor": 0
      },
      "text/plain": [
       "IntProgress(value=0, max=938)"
      ]
     },
     "metadata": {},
     "output_type": "display_data"
    },
    {
     "name": "stdout",
     "output_type": "stream",
     "text": [
      "訓練損失: 0.1308, 訓練精度: 96.02%\n",
      "テスト損失: 0.0881, テスト精度: 97.24%\n",
      "エポック 5/15\n"
     ]
    },
    {
     "data": {
      "application/vnd.jupyter.widget-view+json": {
       "model_id": "901ea336827e44398352f269acb03440",
       "version_major": 2,
       "version_minor": 0
      },
      "text/plain": [
       "IntProgress(value=0, max=938)"
      ]
     },
     "metadata": {},
     "output_type": "display_data"
    },
    {
     "name": "stdout",
     "output_type": "stream",
     "text": [
      "訓練損失: 0.1184, 訓練精度: 96.36%\n",
      "テスト損失: 0.1094, テスト精度: 96.43%\n",
      "エポック 6/15\n"
     ]
    },
    {
     "data": {
      "application/vnd.jupyter.widget-view+json": {
       "model_id": "8c2be7ef787b4de1a8c687b776a74829",
       "version_major": 2,
       "version_minor": 0
      },
      "text/plain": [
       "IntProgress(value=0, max=938)"
      ]
     },
     "metadata": {},
     "output_type": "display_data"
    },
    {
     "name": "stdout",
     "output_type": "stream",
     "text": [
      "訓練損失: 0.0652, 訓練精度: 98.08%\n",
      "テスト損失: 0.0511, テスト精度: 98.44%\n",
      "エポック 7/15\n"
     ]
    },
    {
     "data": {
      "application/vnd.jupyter.widget-view+json": {
       "model_id": "a81243a9689a4da6be3cf2640b1a1797",
       "version_major": 2,
       "version_minor": 0
      },
      "text/plain": [
       "IntProgress(value=0, max=938)"
      ]
     },
     "metadata": {},
     "output_type": "display_data"
    },
    {
     "name": "stdout",
     "output_type": "stream",
     "text": [
      "訓練損失: 0.0519, 訓練精度: 98.44%\n",
      "テスト損失: 0.0434, テスト精度: 98.62%\n",
      "エポック 8/15\n"
     ]
    },
    {
     "data": {
      "application/vnd.jupyter.widget-view+json": {
       "model_id": "3c7aa5f247724522ab5e38bdd4f87be2",
       "version_major": 2,
       "version_minor": 0
      },
      "text/plain": [
       "IntProgress(value=0, max=938)"
      ]
     },
     "metadata": {},
     "output_type": "display_data"
    },
    {
     "name": "stdout",
     "output_type": "stream",
     "text": [
      "訓練損失: 0.0470, 訓練精度: 98.57%\n",
      "テスト損失: 0.0461, テスト精度: 98.41%\n",
      "エポック 9/15\n"
     ]
    },
    {
     "data": {
      "application/vnd.jupyter.widget-view+json": {
       "model_id": "21cbb4b6938e4266891ac975e8a4e14a",
       "version_major": 2,
       "version_minor": 0
      },
      "text/plain": [
       "IntProgress(value=0, max=938)"
      ]
     },
     "metadata": {},
     "output_type": "display_data"
    },
    {
     "name": "stdout",
     "output_type": "stream",
     "text": [
      "訓練損失: 0.0451, 訓練精度: 98.62%\n",
      "テスト損失: 0.0475, テスト精度: 98.46%\n",
      "エポック 10/15\n"
     ]
    },
    {
     "data": {
      "application/vnd.jupyter.widget-view+json": {
       "model_id": "0696c98d2f1b47669be2e54f1161c924",
       "version_major": 2,
       "version_minor": 0
      },
      "text/plain": [
       "IntProgress(value=0, max=938)"
      ]
     },
     "metadata": {},
     "output_type": "display_data"
    },
    {
     "name": "stdout",
     "output_type": "stream",
     "text": [
      "訓練損失: 0.0418, 訓練精度: 98.74%\n",
      "テスト損失: 0.0430, テスト精度: 98.60%\n",
      "エポック 11/15\n"
     ]
    },
    {
     "data": {
      "application/vnd.jupyter.widget-view+json": {
       "model_id": "d0bafa717d66426b84f52d42d5f3f918",
       "version_major": 2,
       "version_minor": 0
      },
      "text/plain": [
       "IntProgress(value=0, max=938)"
      ]
     },
     "metadata": {},
     "output_type": "display_data"
    },
    {
     "name": "stdout",
     "output_type": "stream",
     "text": [
      "訓練損失: 0.0337, 訓練精度: 99.04%\n",
      "テスト損失: 0.0421, テスト精度: 98.67%\n",
      "エポック 12/15\n"
     ]
    },
    {
     "data": {
      "application/vnd.jupyter.widget-view+json": {
       "model_id": "bc5d82f730b74ca198fec5e56ee8c9a6",
       "version_major": 2,
       "version_minor": 0
      },
      "text/plain": [
       "IntProgress(value=0, max=938)"
      ]
     },
     "metadata": {},
     "output_type": "display_data"
    },
    {
     "name": "stdout",
     "output_type": "stream",
     "text": [
      "訓練損失: 0.0326, 訓練精度: 99.05%\n",
      "テスト損失: 0.0416, テスト精度: 98.69%\n",
      "エポック 13/15\n"
     ]
    },
    {
     "data": {
      "application/vnd.jupyter.widget-view+json": {
       "model_id": "1a889c2a07104790926ed53c425a07f3",
       "version_major": 2,
       "version_minor": 0
      },
      "text/plain": [
       "IntProgress(value=0, max=938)"
      ]
     },
     "metadata": {},
     "output_type": "display_data"
    },
    {
     "name": "stdout",
     "output_type": "stream",
     "text": [
      "訓練損失: 0.0321, 訓練精度: 99.06%\n",
      "テスト損失: 0.0416, テスト精度: 98.69%\n",
      "エポック 14/15\n"
     ]
    },
    {
     "data": {
      "application/vnd.jupyter.widget-view+json": {
       "model_id": "cad8075ca0f34215b835ed13234f0dd5",
       "version_major": 2,
       "version_minor": 0
      },
      "text/plain": [
       "IntProgress(value=0, max=938)"
      ]
     },
     "metadata": {},
     "output_type": "display_data"
    },
    {
     "name": "stdout",
     "output_type": "stream",
     "text": [
      "訓練損失: 0.0317, 訓練精度: 99.09%\n",
      "テスト損失: 0.0410, テスト精度: 98.72%\n",
      "エポック 15/15\n"
     ]
    },
    {
     "data": {
      "application/vnd.jupyter.widget-view+json": {
       "model_id": "ec2ff35ac7564f41860959af4d22e528",
       "version_major": 2,
       "version_minor": 0
      },
      "text/plain": [
       "IntProgress(value=0, max=938)"
      ]
     },
     "metadata": {},
     "output_type": "display_data"
    },
    {
     "name": "stdout",
     "output_type": "stream",
     "text": [
      "訓練損失: 0.0309, 訓練精度: 99.09%\n",
      "テスト損失: 0.0408, テスト精度: 98.71%\n"
     ]
    }
   ],
   "source": [
    "# 訓練ループ\n",
    "train_losses = []\n",
    "test_losses = []\n",
    "train_accuracies = []\n",
    "test_accuracies = []\n",
    "\n",
    "for epoch in range(1, num_epochs + 1):\n",
    "    print(f\"エポック {epoch}/{num_epochs}\")\n",
    "    train_loss, train_acc = train(epoch)\n",
    "    test_loss, test_acc = test()\n",
    "\n",
    "    train_losses.append(train_loss)\n",
    "    test_losses.append(test_loss)\n",
    "    train_accuracies.append(train_acc)\n",
    "    test_accuracies.append(test_acc)\n",
    "\n",
    "    print(f\"訓練損失: {train_loss:.4f}, 訓練精度: {train_acc:.2f}%\")\n",
    "    print(f\"テスト損失: {test_loss:.4f}, テスト精度: {test_acc:.2f}%\")"
   ]
  },
  {
   "cell_type": "code",
   "execution_count": 12,
   "metadata": {},
   "outputs": [
    {
     "name": "stdout",
     "output_type": "stream",
     "text": [
      "モデルを'swin_transformer_mnist.pth'として保存しました\n"
     ]
    }
   ],
   "source": [
    "# モデルを保存します\n",
    "torch.save(model.state_dict(), 'swin_transformer_mnist_4.pth')\n",
    "print(\"モデルを'swin_transformer_mnist_4.pth'として保存しました\")"
   ]
  },
  {
   "cell_type": "code",
   "execution_count": 13,
   "metadata": {
    "scrolled": true
   },
   "outputs": [
    {
     "data": {
      "image/png": "[encoded data removed]",
      "text/plain": [
       "<Figure size 1200x400 with 2 Axes>"
      ]
     },
     "metadata": {},
     "output_type": "display_data"
    }
   ],
   "source": [
    "# 結果をプロットします\n",
    "plt.figure(figsize=(12, 4))\n",
    "plt.subplot(1, 2, 1)\n",
    "plt.plot(range(1, num_epochs + 1), train_losses, label=\"Train\")\n",
    "plt.plot(range(1, num_epochs + 1), test_losses, label=\"Test\")\n",
    "plt.xlabel(\"Epoch\")\n",
    "plt.ylabel(\"Loss\")\n",
    "plt.legend()\n",
    "plt.title(\"Loss per Epoch\")\n",
    "\n",
    "plt.subplot(1, 2, 2)\n",
    "plt.plot(range(1, num_epochs + 1), train_accuracies, label=\"Train\")\n",
    "plt.plot(range(1, num_epochs + 1), test_accuracies, label=\"Test\")\n",
    "plt.xlabel(\"Epoch\")\n",
    "plt.ylabel(\"Accuracy (%)\")\n",
    "plt.legend()\n",
    "plt.title(\"Accuracy per Epoch\")\n",
    "\n",
    "plt.tight_layout()\n",
    "plt.show()"
   ]
  }
 ],
 "metadata": {
  "kernelspec": {
   "display_name": "Python 3 (ipykernel)",
   "language": "python",
   "name": "python3"
  },
  "language_info": {
   "codemirror_mode": {
    "name": "ipython",
    "version": 3
   },
   "file_extension": ".py",
   "mimetype": "text/x-python",
   "name": "python",
   "nbconvert_exporter": "python",
   "pygments_lexer": "ipython3",
   "version": "3.10.13"
  }
 },
 "nbformat": 4,
 "nbformat_minor": 4
}
