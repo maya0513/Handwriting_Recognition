{
 "cells": [
  {
   "cell_type": "code",
   "execution_count": 1,
   "metadata": {},
   "outputs": [],
   "source": [
    "# pip install ipywidgets timm"
   ]
  },
  {
   "cell_type": "code",
   "execution_count": 2,
   "metadata": {},
   "outputs": [],
   "source": [
    "# 必要なライブラリをインポートします\n",
    "import torch  # PyTorchの主要ライブラリ\n",
    "import torch.nn as nn  # ニューラルネットワークモジュール\n",
    "import torch.optim as optim  # 最適化アルゴリズム\n",
    "from torch.utils.data import DataLoader  # データローダー\n",
    "from torchvision import datasets, transforms  # 画像データセットと変換\n",
    "from timm.models.swin_transformer import SwinTransformer  # Swin Transformerモデル\n",
    "import matplotlib.pyplot as plt  # グラフ描画ライブラリ\n",
    "from ipywidgets import IntProgress  # プログレスバーウィジェット\n",
    "from IPython.display import display  # IPython表示機能"
   ]
  },
  {
   "cell_type": "code",
   "execution_count": 3,
   "metadata": {},
   "outputs": [
    {
     "name": "stdout",
     "output_type": "stream",
     "text": [
      "Using device: cuda\n"
     ]
    }
   ],
   "source": [
    "# CUDA が利用可能か確認\n",
    "device = torch.device(\"cuda\" if torch.cuda.is_available() else \"cpu\")\n",
    "print(f\"Using device: {device}\")"
   ]
  },
  {
   "cell_type": "code",
   "execution_count": 4,
   "metadata": {},
   "outputs": [],
   "source": [
    "# ハイパーパラメータを設定します\n",
    "batch_size = 64  # バッチサイズ：一度に処理するデータ数\n",
    "learning_rate = 0.001  # 学習率：最適化の歩幅\n",
    "num_epochs = 15  # エポック数：全データセットを何回学習するか\n",
    "\n",
    "step_size = 5  # 学習率を減少させるステップの間隔\n",
    "gamma = 0.1  # 学習率を減少させる割合"
   ]
  },
  {
   "cell_type": "code",
   "execution_count": 5,
   "metadata": {},
   "outputs": [],
   "source": [
    "# データの前処理を定義します\n",
    "transform = transforms.Compose(\n",
    "    [\n",
    "        transforms.Resize((128, 128)),  # 画像を32x32にリサイズ\n",
    "        transforms.ToTensor(),  # 画像をテンソルに変換\n",
    "        transforms.Normalize(\n",
    "            (0.1307,), (0.3081,)\n",
    "        ),  # MNISTデータセットの平均と標準偏差で正規化\n",
    "    ]\n",
    ")"
   ]
  },
  {
   "cell_type": "code",
   "execution_count": 6,
   "metadata": {},
   "outputs": [],
   "source": [
    "# MNISTデータセットの読み込み\n",
    "train_dataset = datasets.MNIST(\n",
    "    root=\"./data\", train=True, download=True, transform=transform\n",
    ")\n",
    "test_dataset = datasets.MNIST(\n",
    "    root=\"./data\", train=False, download=True, transform=transform\n",
    ")\n",
    "\n",
    "train_loader = DataLoader(train_dataset, batch_size=64, shuffle=True)\n",
    "test_loader = DataLoader(test_dataset, batch_size=64, shuffle=False)"
   ]
  },
  {
   "cell_type": "code",
   "execution_count": 7,
   "metadata": {},
   "outputs": [],
   "source": [
    "# Swin Transformerモデルを定義します\n",
    "class SwinTransformerForMNIST(nn.Module):\n",
    "    def __init__(self):\n",
    "        super(SwinTransformerForMNIST, self).__init__()\n",
    "        self.swin = SwinTransformer(\n",
    "            img_size=128,  # 入力画像サイズ\n",
    "            patch_size=8,  # パッチサイズ\n",
    "            in_chans=1,  # 入力チャンネル数（グレースケール）\n",
    "            num_classes=10,  # 出力クラス数（0-9の数字）\n",
    "            embed_dim=64,  # 埋め込みベクトルの次元\n",
    "            depths=[2, 2, 6, 2],  # 各段階のTransformerブロック数\n",
    "            num_heads=[2, 4, 8, 16],  # 各段階のアテンションヘッド数\n",
    "            window_size=8,  # ウィンドウサイズ\n",
    "            mlp_ratio=4.0,  # MLPの拡大率\n",
    "            qkv_bias=True,  # クエリ、キー、バリューにバイアスを使用\n",
    "            drop_rate=0.1,  # ドロップアウト率\n",
    "            attn_drop_rate=0.1,  # アテンションのドロップアウト率\n",
    "            drop_path_rate=0.1,  # パスのドロップアウト率\n",
    "        )\n",
    "\n",
    "    def forward(self, x):\n",
    "        return self.swin(x)  # モデルの順伝播"
   ]
  },
  {
   "cell_type": "code",
   "execution_count": 8,
   "metadata": {},
   "outputs": [],
   "source": [
    "# モデル、損失関数、オプティマイザを初期化します\n",
    "model = SwinTransformerForMNIST().to(device)\n",
    "criterion = nn.CrossEntropyLoss()  # 多クラス分類のための交差エントロピー損失\n",
    "optimizer = optim.Adam(model.parameters(), lr=learning_rate, weight_decay=1e-4)  # Adamオプティマイザ\n",
    "# L2正則化\n",
    "\n",
    "# 学習率スケジューラを定義\n",
    "scheduler = optim.lr_scheduler.StepLR(optimizer, step_size=step_size, gamma=gamma)"
   ]
  },
  {
   "cell_type": "code",
   "execution_count": 9,
   "metadata": {},
   "outputs": [],
   "source": [
    "# 訓練関数を定義します\n",
    "def train(epoch):\n",
    "    model.train()  # モデルを訓練モードに設定\n",
    "    train_loss = 0\n",
    "    correct = 0\n",
    "    total = 0\n",
    "    progress = IntProgress(min=0, max=len(train_loader))\n",
    "    display(progress)\n",
    "\n",
    "    for batch_idx, (data, target) in enumerate(train_loader):\n",
    "        data, target = data.to(device), target.to(device)  # データをGPUに移動\n",
    "        optimizer.zero_grad()  # 勾配をゼロに初期化\n",
    "        output = model(data)  # モデルの出力を計算\n",
    "        loss = criterion(output, target)  # 損失を計算\n",
    "        loss.backward()  # 逆伝播で勾配を計算\n",
    "        optimizer.step()  # パラメータを更新\n",
    "\n",
    "        train_loss += loss.item()\n",
    "        _, predicted = output.max(1)\n",
    "        total += target.size(0)\n",
    "        correct += predicted.eq(target).sum().item()\n",
    "        progress.value += 1\n",
    "\n",
    "    scheduler.step()  # エポックごとに学習率を減少させる\n",
    "\n",
    "    return train_loss / len(train_loader), 100.0 * correct / total"
   ]
  },
  {
   "cell_type": "code",
   "execution_count": 10,
   "metadata": {},
   "outputs": [],
   "source": [
    "# テスト関数を定義します\n",
    "def test():\n",
    "    model.eval()  # モデルを評価モードに設定\n",
    "    test_loss = 0\n",
    "    correct = 0\n",
    "    total = 0\n",
    "    with torch.no_grad():  # 勾配計算を無効化\n",
    "        for data, target in test_loader:\n",
    "            data, target = data.to(device), target.to(device)\n",
    "            output = model(data)\n",
    "            loss = criterion(output, target)\n",
    "            test_loss += loss.item()\n",
    "            _, predicted = output.max(1)\n",
    "            total += target.size(0)\n",
    "            correct += predicted.eq(target).sum().item()\n",
    "\n",
    "    return test_loss / len(test_loader), 100.0 * correct / total"
   ]
  },
  {
   "cell_type": "code",
   "execution_count": 11,
   "metadata": {
    "scrolled": true
   },
   "outputs": [
    {
     "name": "stdout",
     "output_type": "stream",
     "text": [
      "エポック 1/15\n"
     ]
    },
    {
     "data": {
      "application/vnd.jupyter.widget-view+json": {
       "model_id": "0cdd545de60a433cbf8ab06d2134d9dd",
       "version_major": 2,
       "version_minor": 0
      },
      "text/plain": [
       "IntProgress(value=0, max=938)"
      ]
     },
     "metadata": {},
     "output_type": "display_data"
    },
    {
     "name": "stdout",
     "output_type": "stream",
     "text": [
      "訓練損失: 0.3870, 訓練精度: 87.81%\n",
      "テスト損失: 0.2311, テスト精度: 92.77%\n",
      "エポック 2/15\n"
     ]
    },
    {
     "data": {
      "application/vnd.jupyter.widget-view+json": {
       "model_id": "2af04f4221764ee3b48c4c56859e9358",
       "version_major": 2,
       "version_minor": 0
      },
      "text/plain": [
       "IntProgress(value=0, max=938)"
      ]
     },
     "metadata": {},
     "output_type": "display_data"
    },
    {
     "name": "stdout",
     "output_type": "stream",
     "text": [
      "訓練損失: 0.2159, 訓練精度: 93.34%\n",
      "テスト損失: 0.1561, テスト精度: 95.22%\n",
      "エポック 3/15\n"
     ]
    },
    {
     "data": {
      "application/vnd.jupyter.widget-view+json": {
       "model_id": "e7c8cb3e046f41d586500842500902d8",
       "version_major": 2,
       "version_minor": 0
      },
      "text/plain": [
       "IntProgress(value=0, max=938)"
      ]
     },
     "metadata": {},
     "output_type": "display_data"
    },
    {
     "name": "stdout",
     "output_type": "stream",
     "text": [
      "訓練損失: 0.1697, 訓練精度: 94.84%\n",
      "テスト損失: 0.1117, テスト精度: 96.66%\n",
      "エポック 4/15\n"
     ]
    },
    {
     "data": {
      "application/vnd.jupyter.widget-view+json": {
       "model_id": "e5af7ad4b18c4a2daeb38267a3788199",
       "version_major": 2,
       "version_minor": 0
      },
      "text/plain": [
       "IntProgress(value=0, max=938)"
      ]
     },
     "metadata": {},
     "output_type": "display_data"
    },
    {
     "name": "stdout",
     "output_type": "stream",
     "text": [
      "訓練損失: 0.1449, 訓練精度: 95.63%\n",
      "テスト損失: 0.1099, テスト精度: 96.66%\n",
      "エポック 5/15\n"
     ]
    },
    {
     "data": {
      "application/vnd.jupyter.widget-view+json": {
       "model_id": "984332406967412da93f2e7fca9617ae",
       "version_major": 2,
       "version_minor": 0
      },
      "text/plain": [
       "IntProgress(value=0, max=938)"
      ]
     },
     "metadata": {},
     "output_type": "display_data"
    },
    {
     "name": "stdout",
     "output_type": "stream",
     "text": [
      "訓練損失: 0.1281, 訓練精度: 96.10%\n",
      "テスト損失: 0.1042, テスト精度: 96.78%\n",
      "エポック 6/15\n"
     ]
    },
    {
     "data": {
      "application/vnd.jupyter.widget-view+json": {
       "model_id": "3ee3f5a0e54044b7add666ab74701e07",
       "version_major": 2,
       "version_minor": 0
      },
      "text/plain": [
       "IntProgress(value=0, max=938)"
      ]
     },
     "metadata": {},
     "output_type": "display_data"
    },
    {
     "name": "stdout",
     "output_type": "stream",
     "text": [
      "訓練損失: 0.0699, 訓練精度: 97.85%\n",
      "テスト損失: 0.0559, テスト精度: 98.19%\n",
      "エポック 7/15\n"
     ]
    },
    {
     "data": {
      "application/vnd.jupyter.widget-view+json": {
       "model_id": "a89cd582353c4f5294f01dcc570dbd2f",
       "version_major": 2,
       "version_minor": 0
      },
      "text/plain": [
       "IntProgress(value=0, max=938)"
      ]
     },
     "metadata": {},
     "output_type": "display_data"
    },
    {
     "name": "stdout",
     "output_type": "stream",
     "text": [
      "訓練損失: 0.0558, 訓練精度: 98.30%\n",
      "テスト損失: 0.0501, テスト精度: 98.37%\n",
      "エポック 8/15\n"
     ]
    },
    {
     "data": {
      "application/vnd.jupyter.widget-view+json": {
       "model_id": "a0418d9edccc4a56af3e57492609f20a",
       "version_major": 2,
       "version_minor": 0
      },
      "text/plain": [
       "IntProgress(value=0, max=938)"
      ]
     },
     "metadata": {},
     "output_type": "display_data"
    },
    {
     "name": "stdout",
     "output_type": "stream",
     "text": [
      "訓練損失: 0.0498, 訓練精度: 98.46%\n",
      "テスト損失: 0.0505, テスト精度: 98.35%\n",
      "エポック 9/15\n"
     ]
    },
    {
     "data": {
      "application/vnd.jupyter.widget-view+json": {
       "model_id": "af34344e9ea3489e8b532c57d6c13340",
       "version_major": 2,
       "version_minor": 0
      },
      "text/plain": [
       "IntProgress(value=0, max=938)"
      ]
     },
     "metadata": {},
     "output_type": "display_data"
    },
    {
     "name": "stdout",
     "output_type": "stream",
     "text": [
      "訓練損失: 0.0457, 訓練精度: 98.66%\n",
      "テスト損失: 0.0450, テスト精度: 98.47%\n",
      "エポック 10/15\n"
     ]
    },
    {
     "data": {
      "application/vnd.jupyter.widget-view+json": {
       "model_id": "36ad271d71c14efc8290d423a0ed3e32",
       "version_major": 2,
       "version_minor": 0
      },
      "text/plain": [
       "IntProgress(value=0, max=938)"
      ]
     },
     "metadata": {},
     "output_type": "display_data"
    },
    {
     "name": "stdout",
     "output_type": "stream",
     "text": [
      "訓練損失: 0.0425, 訓練精度: 98.69%\n",
      "テスト損失: 0.0487, テスト精度: 98.51%\n",
      "エポック 11/15\n"
     ]
    },
    {
     "data": {
      "application/vnd.jupyter.widget-view+json": {
       "model_id": "618cee9fc6d74e5ba1e726e298d8e3b5",
       "version_major": 2,
       "version_minor": 0
      },
      "text/plain": [
       "IntProgress(value=0, max=938)"
      ]
     },
     "metadata": {},
     "output_type": "display_data"
    },
    {
     "name": "stdout",
     "output_type": "stream",
     "text": [
      "訓練損失: 0.0340, 訓練精度: 99.04%\n",
      "テスト損失: 0.0428, テスト精度: 98.59%\n",
      "エポック 12/15\n"
     ]
    },
    {
     "data": {
      "application/vnd.jupyter.widget-view+json": {
       "model_id": "7a7242fbcf1a448fab51b079acf9f04d",
       "version_major": 2,
       "version_minor": 0
      },
      "text/plain": [
       "IntProgress(value=0, max=938)"
      ]
     },
     "metadata": {},
     "output_type": "display_data"
    },
    {
     "name": "stdout",
     "output_type": "stream",
     "text": [
      "訓練損失: 0.0310, 訓練精度: 99.07%\n",
      "テスト損失: 0.0419, テスト精度: 98.63%\n",
      "エポック 13/15\n"
     ]
    },
    {
     "data": {
      "application/vnd.jupyter.widget-view+json": {
       "model_id": "8cfa98e34382405c9c5f0a73fd3b0aac",
       "version_major": 2,
       "version_minor": 0
      },
      "text/plain": [
       "IntProgress(value=0, max=938)"
      ]
     },
     "metadata": {},
     "output_type": "display_data"
    },
    {
     "name": "stdout",
     "output_type": "stream",
     "text": [
      "訓練損失: 0.0306, 訓練精度: 99.13%\n",
      "テスト損失: 0.0412, テスト精度: 98.67%\n",
      "エポック 14/15\n"
     ]
    },
    {
     "data": {
      "application/vnd.jupyter.widget-view+json": {
       "model_id": "fd2510c51a134044970f1a8813f5b421",
       "version_major": 2,
       "version_minor": 0
      },
      "text/plain": [
       "IntProgress(value=0, max=938)"
      ]
     },
     "metadata": {},
     "output_type": "display_data"
    },
    {
     "name": "stdout",
     "output_type": "stream",
     "text": [
      "訓練損失: 0.0302, 訓練精度: 99.14%\n",
      "テスト損失: 0.0410, テスト精度: 98.71%\n",
      "エポック 15/15\n"
     ]
    },
    {
     "data": {
      "application/vnd.jupyter.widget-view+json": {
       "model_id": "fb08c29c94f4464bbd0c69103d32c103",
       "version_major": 2,
       "version_minor": 0
      },
      "text/plain": [
       "IntProgress(value=0, max=938)"
      ]
     },
     "metadata": {},
     "output_type": "display_data"
    },
    {
     "name": "stdout",
     "output_type": "stream",
     "text": [
      "訓練損失: 0.0297, 訓練精度: 99.15%\n",
      "テスト損失: 0.0406, テスト精度: 98.75%\n"
     ]
    }
   ],
   "source": [
    "# 訓練ループ\n",
    "train_losses = []\n",
    "test_losses = []\n",
    "train_accuracies = []\n",
    "test_accuracies = []\n",
    "\n",
    "for epoch in range(1, num_epochs + 1):\n",
    "    print(f\"エポック {epoch}/{num_epochs}\")\n",
    "    train_loss, train_acc = train(epoch)\n",
    "    test_loss, test_acc = test()\n",
    "\n",
    "    train_losses.append(train_loss)\n",
    "    test_losses.append(test_loss)\n",
    "    train_accuracies.append(train_acc)\n",
    "    test_accuracies.append(test_acc)\n",
    "\n",
    "    print(f\"訓練損失: {train_loss:.4f}, 訓練精度: {train_acc:.2f}%\")\n",
    "    print(f\"テスト損失: {test_loss:.4f}, テスト精度: {test_acc:.2f}%\")"
   ]
  },
  {
   "cell_type": "code",
   "execution_count": 12,
   "metadata": {},
   "outputs": [
    {
     "name": "stdout",
     "output_type": "stream",
     "text": [
      "モデルを'swin_transformer_mnist.pth'として保存しました\n"
     ]
    }
   ],
   "source": [
    "# モデルを保存します\n",
    "torch.save(model.state_dict(), 'swin_transformer_mnist_3.pth')\n",
    "print(\"モデルを'swin_transformer_mnist_3.pth'として保存しました\")"
   ]
  },
  {
   "cell_type": "code",
   "execution_count": 13,
   "metadata": {
    "scrolled": true
   },
   "outputs": [
    {
     "data": {
      "image/png": "[encoded data removed]",
      "text/plain": [
       "<Figure size 1200x400 with 2 Axes>"
      ]
     },
     "metadata": {},
     "output_type": "display_data"
    }
   ],
   "source": [
    "# 結果をプロットします\n",
    "plt.figure(figsize=(12, 4))\n",
    "plt.subplot(1, 2, 1)\n",
    "plt.plot(range(1, num_epochs + 1), train_losses, label=\"Train\")\n",
    "plt.plot(range(1, num_epochs + 1), test_losses, label=\"Test\")\n",
    "plt.xlabel(\"Epoch\")\n",
    "plt.ylabel(\"Loss\")\n",
    "plt.legend()\n",
    "plt.title(\"Loss per Epoch\")\n",
    "\n",
    "plt.subplot(1, 2, 2)\n",
    "plt.plot(range(1, num_epochs + 1), train_accuracies, label=\"Train\")\n",
    "plt.plot(range(1, num_epochs + 1), test_accuracies, label=\"Test\")\n",
    "plt.xlabel(\"Epoch\")\n",
    "plt.ylabel(\"Accuracy (%)\")\n",
    "plt.legend()\n",
    "plt.title(\"Accuracy per Epoch\")\n",
    "\n",
    "plt.tight_layout()\n",
    "plt.show()"
   ]
  }
 ],
 "metadata": {
  "kernelspec": {
   "display_name": "Python 3 (ipykernel)",
   "language": "python",
   "name": "python3"
  },
  "language_info": {
   "codemirror_mode": {
    "name": "ipython",
    "version": 3
   },
   "file_extension": ".py",
   "mimetype": "text/x-python",
   "name": "python",
   "nbconvert_exporter": "python",
   "pygments_lexer": "ipython3",
   "version": "3.10.13"
  }
 },
 "nbformat": 4,
 "nbformat_minor": 4
}
